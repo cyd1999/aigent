{
 "cells": [
  {
   "cell_type": "code",
   "id": "initial_id",
   "metadata": {
    "collapsed": true,
    "ExecuteTime": {
     "end_time": "2024-05-10T09:20:54.459848Z",
     "start_time": "2024-05-10T09:20:53.931317Z"
    }
   },
   "source": [
    "from langchain_openai import ChatOpenAI\n",
    "from langchain_core.prompts import ChatPromptTemplate, MessagesPlaceholder\n",
    "from langchain.memory import ChatMessageHistory\n",
    "from langchain_text_splitters import RecursiveCharacterTextSplitter\n",
    "from langchain_community.vectorstores import Chroma\n",
    "from langchain_openai import OpenAIEmbeddings\n",
    "from langchain.chains.combine_documents import create_stuff_documents_chain\n",
    "import os\n",
    "from langchain_community.utilities import SerpAPIWrapper\n",
    "\n",
    "os.environ[\"OPENAI_API_KEY\"] = \"sk-Idmt5y3qXKCK6v3E389b37F048D84597AbF998700b017f6c\"\n",
    "os.environ[\"OPENAI_API_BASE\"] = \"https://ai-yyds.com/v1\"\n",
    "os.environ[\"SERPAPI_API_KEY\"] = \"824aa37f7dd4480b81895f11e4ff82e6c042a219dbebd28faf73bd31766fae37\"\n"
   ],
   "outputs": [
    {
     "name": "stderr",
     "output_type": "stream",
     "text": [
      "/Users/chiyongdong/PycharmProjects/AIagent/pythonProject/.venv/lib/python3.9/site-packages/urllib3/__init__.py:35: NotOpenSSLWarning: urllib3 v2 only supports OpenSSL 1.1.1+, currently the 'ssl' module is compiled with 'LibreSSL 2.8.3'. See: https://github.com/urllib3/urllib3/issues/3020\n",
      "  warnings.warn(\n"
     ]
    }
   ],
   "execution_count": 1
  },
  {
   "metadata": {
    "ExecuteTime": {
     "end_time": "2024-05-10T09:35:46.724320Z",
     "start_time": "2024-05-10T09:35:46.720950Z"
    }
   },
   "cell_type": "code",
   "source": [
    "template = \"\"\"\n",
    "            你是一个非常厉害的算命先生，你叫陈玉楼，人称陈大师。\n",
    "            以下是你的个人设定：\n",
    "            1，你精通阴阳五行，能够算命、紫薇斗数、姓名测算、占卜凶吉、看命运八字等。\n",
    "            2，你大约60岁左右，过去曾是湘西一代赫赫有名的土匪头子，后来因为盗墓被毒气所伤，眼睛失明，只能靠算命为生。\n",
    "            3，你的朋友有胡八一，雪莉杨，王胖子，他们都是非常有名的摸金校尉。\n",
    "            4，当用户问你问题的时候，你会有一定的概率在回答的时候加上下面的口头禅或者混合一些你的亲身经历。\n",
    "            5，你总是用繁体中文来作答。\n",
    "            6，你从不说自己是一个人工智能助手或AI，而是以老夫，老朽等自称。\n",
    "            以下是你常说的一些口头禅，你最多可以说出下面的2个,当你在使用工具的时候，回答不需要加口头禅：\n",
    "            1.“命里有时终须有，命里无时莫强求”\n",
    "            2.“山重水复疑无路，柳暗花明又一村”\n",
    "            3.“金山竹影几千秋，云锁高飞水自流”\n",
    "            4.“伤情最是晚凉天，憔悴斯人不堪怜”\n",
    "            以下是你算命的过程：\n",
    "            1.当初次和用户对话的时候，你会先问用户的姓名和出生年月日，以便日后使用。\n",
    "            2.当用户希望了解龙年运势的时候，你会查询本地知识库工具。\n",
    "            3.当遇到不知道的事情或者不明白的概念，你会使用搜索工具来搜索。\n",
    "            4，你会根据用户的问题使用不同的合适的工具来回答，当所有工具都无法回答的时候，你会使用搜索工具来搜索。\n",
    "            5，你会保存每一次的聊天记录，以便在后续的对话中使用。\n",
    "            6，你只使用繁体中文来作答，否则你讲受到惩罚。\n",
    "        \"\"\""
   ],
   "id": "428ffbf0e94b1900",
   "outputs": [],
   "execution_count": 19
  },
  {
   "metadata": {
    "ExecuteTime": {
     "end_time": "2024-05-10T09:40:27.316259Z",
     "start_time": "2024-05-10T09:40:27.313704Z"
    }
   },
   "cell_type": "code",
   "source": [
    "# from langchain_core.tools import tool\n",
    "# \n",
    "# \n",
    "# @tool\n",
    "# def search(query:str):\n",
    "#     \"\"\"只有需要了解实时信息或不知道的事情的时候才会使用这个工具。\"\"\"\n",
    "#     serp = SerpAPIWrapper()\n",
    "#     result = serp.run(query)\n",
    "#     print(\"实时搜索结果:\",result)\n",
    "#     return result"
   ],
   "id": "5f6616b0cd705aa1",
   "outputs": [],
   "execution_count": 31
  },
  {
   "metadata": {
    "ExecuteTime": {
     "end_time": "2024-05-10T09:48:42.263106Z",
     "start_time": "2024-05-10T09:48:42.239224Z"
    }
   },
   "cell_type": "code",
   "source": [
    "from langchain_core.tools import Tool\n",
    "from langchain.agents import create_openai_tools_agent, AgentExecutor\n",
    "\n",
    "chat = ChatOpenAI(model=\"gpt-3.5-turbo-0125\",streaming=False)\n",
    "search = SerpAPIWrapper()\n",
    "tools = [Tool(\n",
    "            name=\"google_search\",\n",
    "            description=\"Search Google for recent results.\",\n",
    "            func=search.results,\n",
    "            return_direct=False\n",
    "        )]\n",
    "# tools =[search]\n",
    "prompt = ChatPromptTemplate.from_messages(\n",
    "            [\n",
    "                (\n",
    "                    \"system\",\n",
    "                    \"用提供的工具回答以下问题：\",\n",
    "                ),\n",
    "                # MessagesPlaceholder(variable_name=\"chat_history\"),\n",
    "                (\"human\", \"{input}\"),\n",
    "                # MessagesPlaceholder(variable_name=\"messages\"),\n",
    "                MessagesPlaceholder(variable_name=\"agent_scratchpad\"),\n",
    "            ]\n",
    "        )\n",
    "agent = create_openai_tools_agent(tools = tools,llm = chat,prompt=prompt)\n",
    "agent_executor = AgentExecutor(agent=agent, tools=tools, verbose=True)"
   ],
   "id": "37e008c836f2cfaa",
   "outputs": [],
   "execution_count": 38
  },
  {
   "metadata": {
    "ExecuteTime": {
     "end_time": "2024-05-10T09:47:08.796439Z",
     "start_time": "2024-05-10T09:47:08.792170Z"
    }
   },
   "cell_type": "code",
   "source": [
    "prompt.format(\n",
    "    input=\"你好，请问现在的金价是多少\",\n",
    "    agent_scratchpad = []\n",
    ")"
   ],
   "id": "20d4bae41d707f9e",
   "outputs": [
    {
     "data": {
      "text/plain": [
       "'System: 用提供的工具回答以下问题：\\nHuman: 你好，请问现在的金价是多少'"
      ]
     },
     "execution_count": 36,
     "metadata": {},
     "output_type": "execute_result"
    }
   ],
   "execution_count": 36
  },
  {
   "metadata": {
    "ExecuteTime": {
     "end_time": "2024-05-10T09:48:50.952807Z",
     "start_time": "2024-05-10T09:48:44.786966Z"
    }
   },
   "cell_type": "code",
   "source": [
    "agent_executor.invoke({\n",
    "    \"input\":\"你好，请问现在的金价是多少\"\n",
    "})"
   ],
   "id": "bf844c4a70a4d04f",
   "outputs": [
    {
     "name": "stdout",
     "output_type": "stream",
     "text": [
      "\n",
      "\n",
      "\u001B[1m> Entering new AgentExecutor chain...\u001B[0m\n",
      "\u001B[32;1m\u001B[1;3m\n",
      "Invoking: `google_search` with `当前金价`\n",
      "\n",
      "\n",
      "\u001B[0m\u001B[36;1m\u001B[1;3m{'search_metadata': {'id': '663de9e17f83616a25a94b5e', 'status': 'Success', 'json_endpoint': 'https://serpapi.com/searches/370048ae8d8f8bb7/663de9e17f83616a25a94b5e.json', 'created_at': '2024-05-10 09:33:21 UTC', 'processed_at': '2024-05-10 09:33:21 UTC', 'google_url': 'https://www.google.com/search?q=%E5%BD%93%E5%89%8D%E9%87%91%E4%BB%B7&oq=%E5%BD%93%E5%89%8D%E9%87%91%E4%BB%B7&hl=en&gl=us&sourceid=chrome&ie=UTF-8', 'raw_html_file': 'https://serpapi.com/searches/370048ae8d8f8bb7/663de9e17f83616a25a94b5e.html', 'total_time_taken': 1.14}, 'search_parameters': {'engine': 'google', 'q': '当前金价', 'google_domain': 'google.com', 'hl': 'en', 'gl': 'us', 'device': 'desktop'}, 'search_information': {'query_displayed': '当前金价', 'total_results': 8620000, 'time_taken_displayed': 0.27, 'organic_results_state': 'Results for exact spelling'}, 'answer_box': {'type': 'organic_result', 'title': '今日金价', 'link': 'https://www.ip138.com/gold/', 'displayed_link': 'https://www.ip138.com › gold', 'favicon': 'https://serpapi.com/searches/663de9e17f83616a25a94b5e/images/370112d246c0ff91d166ecc868d889f611e3193945e5faa2.png', 'source': 'IP138', 'contents': {'table': [['金店名称', '零售价(元/克)', '换购价(元/克)'], ['周大福', '719', '528'], ['六福珠宝', '719', '633'], ['菜百首饰', '692', '-'], ['金至尊', '719', '633']], 'formatted': [{'金店名称': '周大福', '零售价_元_克': '719', '换购价_元_克': '528'}, {'金店名称': '六福珠宝', '零售价_元_克': '719', '换购价_元_克': '633'}, {'金店名称': '菜百首饰', '零售价_元_克': '692', '换购价_元_克': '-'}, {'金店名称': '金至尊', '零售价_元_克': '719', '换购价_元_克': '633'}]}}, 'organic_results': [{'position': 1, 'title': '实物黄金价格_贵金属', 'link': 'https://vip.stock.finance.sina.com.cn/q/view/vGold_Matter_History.php', 'redirect_link': 'https://www.google.com/url?sa=t&source=web&rct=j&opi=89978449&url=https://vip.stock.finance.sina.com.cn/q/view/vGold_Matter_History.php&ved=2ahUKEwjrx53Q44KGAxU94skDHdKvBagQFnoECBQQAQ', 'displayed_link': 'https://vip.stock.finance.sina.com.cn › ...', 'favicon': 'https://serpapi.com/searches/663de9e17f83616a25a94b5e/images/a16f7db5ef2efaa04b8982e1c1aa2004a5b66b9d8dc6bf2e3a4c9499dbecbe2b.png', 'snippet': '饰品金价(内地). 719.00. 元/克. --. 另计. 涨. 2024-05-10 ... 金条金价(内地). 709.00. 元/克. --. 另计. 涨. 2024-05-10 ... 当前页面是第1页,共46页 第一页|上一页| 下一页 ...', 'snippet_highlighted_words': ['金价', '金价', '当前'], 'source': '手机新浪网'}, {'position': 2, 'title': '今日中国黄金最新价格查询(中国基础金价多少钱一克) - 行情', 'link': 'https://quote.cngold.org/gjs/swhj_zghj.html', 'redirect_link': 'https://www.google.com/url?sa=t&source=web&rct=j&opi=89978449&url=https://quote.cngold.org/gjs/swhj_zghj.html&ved=2ahUKEwjrx53Q44KGAxU94skDHdKvBagQFnoECBYQAQ', 'displayed_link': 'https://quote.cngold.org › swhj_zghj', 'favicon': 'https://serpapi.com/searches/663de9e17f83616a25a94b5e/images/a16f7db5ef2efaa04b8982e1c1aa2004e18bda57e4d1db87cd7ef60d9ab4b0f2.png', 'snippet': '金投网行情中心为您提供及时的行情数据，包括中国黄金今日价格、中国黄金价格、中国黄金多少钱一克、中国黄金金价、中国黄金走势图、中国黄金行情、中国黄金基础金价等 ...', 'snippet_highlighted_words': ['黄金价格', '金价', '金价'], 'sitelinks': {'inline': [{'title': '周大福', 'link': 'https://quote.cngold.org/gjs/swhj_zdf.html'}, {'title': '切换城市', 'link': 'https://m.cngold.org/quote/gjs/selectCity.html'}, {'title': '期货行情', 'link': 'https://m.cngold.org/quote/qh/'}, {'title': '周大生', 'link': 'https://quote.cngold.org/gjs/swhj_zds.html'}]}, 'source': '金投网'}, {'position': 3, 'title': '今日黄金价格查询_现在金价黄金多少钱一克_国际金价实时行情 ...', 'link': 'http://www.jinrijinjia.cn/', 'redirect_link': 'https://www.google.com/url?sa=t&source=web&rct=j&opi=89978449&url=http://www.jinrijinjia.cn/&ved=2ahUKEwjrx53Q44KGAxU94skDHdKvBagQFnoECBkQAQ', 'displayed_link': 'http://www.jinrijinjia.cn', 'favicon': 'https://serpapi.com/searches/663de9e17f83616a25a94b5e/images/a16f7db5ef2efaa04b8982e1c1aa2004344103c5d6e8fc18562b18f68feb83e4.png', 'snippet': '周大福黄金价格719元/克，老凤祥今日黄金价格718元/克，老庙黄金今日价格714元/克，菜百今日金价695元/克，周六福黄金价格719元/克，周大生黄金价格719元/克，中国黄金价格 ...', 'snippet_highlighted_words': ['黄金价格', '黄金价格', '金价', '黄金价格', '黄金价格', '黄金价格'], 'source': 'jinrijinjia.cn'}, {'position': 4, 'title': '国际黄金价格走势图-黄金频道 - 和讯黄金', 'link': 'https://gold.hexun.com/hjxh/', 'redirect_link': 'https://www.google.com/url?sa=t&source=web&rct=j&opi=89978449&url=https://gold.hexun.com/hjxh/&ved=2ahUKEwjrx53Q44KGAxU94skDHdKvBagQFnoECBsQAQ', 'displayed_link': 'https://gold.hexun.com › hjxh', 'favicon': 'https://serpapi.com/searches/663de9e17f83616a25a94b5e/images/a16f7db5ef2efaa04b8982e1c1aa2004aaaf4e76383a967535c5ac67beda6fea.png', 'snippet': '黄金现货 (USDX) ; 开盘价74.4600, 昨收价74.4800 ; 最低价74.4400, 最高价74.5300 ...', 'source': '和讯黄金'}, {'position': 5, 'title': '黄金_黄金行情_最新黄金价格查询_黄金价格走势图_黄金价格 ...', 'link': 'https://gold.cngold.org/', 'redirect_link': 'https://www.google.com/url?sa=t&source=web&rct=j&opi=89978449&url=https://gold.cngold.org/&ved=2ahUKEwjrx53Q44KGAxU94skDHdKvBagQFnoECC8QAQ', 'displayed_link': 'https://gold.cngold.org', 'favicon': 'https://serpapi.com/searches/663de9e17f83616a25a94b5e/images/a16f7db5ef2efaa04b8982e1c1aa2004f166f13c0dee8ca8d3eca938bbf18d08.png', 'snippet': '金投网为炒黄金投资者提供黄金价格查询、黄金价格走势图、黄金价格多少一克、今日金价多少钱一克、黄金价格表、今日黄金报价、黄金多少钱1克等黄金价格查询服务， ...', 'snippet_highlighted_words': ['黄金价格', '黄金价格', '黄金价格', '金价', '黄金价格', '黄金价格'], 'sitelinks': {'inline': [{'title': '黄金价格今天多少一克', 'link': 'https://gold.cngold.org/hjbj/'}, {'title': '现货黄金', 'link': 'https://www.cngold.org/xhhj/'}, {'title': '上海黄金交易所黄金td新闻', 'link': 'https://www.cngold.org/gold_td/'}, {'title': '黄金9999', 'link': 'https://m.cngold.org/quote/gjs/jjs_hj9999.html'}]}, 'source': '金投网'}, {'position': 6, 'title': '今日黄金价格查询_国际金价_现在黄金多少钱一克', 'link': 'https://www.giabbs.com/jin/guojijinjia', 'redirect_link': 'https://www.google.com/url?sa=t&source=web&rct=j&opi=89978449&url=https://www.giabbs.com/jin/guojijinjia&ved=2ahUKEwjrx53Q44KGAxU94skDHdKvBagQFnoECDYQAQ', 'displayed_link': 'https://www.giabbs.com › guojijinjia', 'favicon': 'https://serpapi.com/searches/663de9e17f83616a25a94b5e/images/a16f7db5ef2efaa04b8982e1c1aa2004b594efeaa50ca60e9de7f9d2fc2ce1ac.png', 'snippet': '世界现货价格 ; 黄金, 449.16, -1.23 ; 白银, 5.22, -0.02 ; 铂金, 202.56, -1.83 ; 钯金, 252.79, +0.69 ...', 'missing': ['当前'], 'must_include': {'word': '当前', 'link': 'https://www.google.com/search?sca_esv=cd9a55a255ee4ca7&sca_upv=1&q=%22%E5%BD%93%E5%89%8D%22+%E9%87%91%E4%BB%B7&sa=X&ved=2ahUKEwjrx53Q44KGAxU94skDHdKvBagQ5t4CegQIOBAB'}, 'source': '珠宝大家坛'}, {'position': 7, 'title': '黄金价格_今日金价查询最新国际金价实时行情走势图', 'link': 'https://www.5huangjin.com/', 'redirect_link': 'https://www.google.com/url?sa=t&source=web&rct=j&opi=89978449&url=https://www.5huangjin.com/&ved=2ahUKEwjrx53Q44KGAxU94skDHdKvBagQFnoECDEQAQ', 'displayed_link': 'https://www.5huangjin.com', 'favicon': 'https://serpapi.com/searches/663de9e17f83616a25a94b5e/images/a16f7db5ef2efaa04b8982e1c1aa20048a8fa94864dfe7baba183a4377c58073.jpeg', 'snippet': '今日黄金价格. 今日金价查询频率5秒可实时刷新. 纽约期货国际金价. 美国纽约商品交易所美元/盎司. 2322.39. -1.81 -0.078%. 今开:2322.00 昨收:2324.20.', 'snippet_highlighted_words': ['黄金价格', '金价', '金价'], 'sitelinks': {'inline': [{'title': '纽约金价', 'link': 'https://www.5huangjin.com/us/'}, {'title': '中国金价', 'link': 'https://www.5huangjin.com/cn/'}, {'title': '黄金30天价格走势（人民币）', 'link': 'https://www.5huangjin.com/huangjin_rmb_30.html'}, {'title': '今日白银价格', 'link': 'https://www.5huangjin.com/silver/'}]}, 'source': '5huangjin.com'}, {'position': 8, 'title': '黄金价格走势图- 即时黄金,白银,铂金和钯金现货价格', 'link': 'https://zh-hans.bullionvault.com/gold-price-chart.do', 'redirect_link': 'https://www.google.com/url?sa=t&source=web&rct=j&opi=89978449&url=https://zh-hans.bullionvault.com/gold-price-chart.do&ved=2ahUKEwjrx53Q44KGAxU94skDHdKvBagQFnoECDIQAQ', 'displayed_link': 'https://zh-hans.bullionvault.com › g...', 'favicon': 'https://serpapi.com/searches/663de9e17f83616a25a94b5e/images/a16f7db5ef2efaa04b8982e1c1aa2004701a2190acb3f5186f243b83578c0ee7.png', 'snippet': 'BullionVault 的金价走势图将显示专业黄金市场的实时现货价格。您也可以在BullionVault 以这些价格买入黄金。 我们提供最快的网上更新，每十秒都会刷新最新的即时数据 ...', 'snippet_highlighted_words': ['金价'], 'source': 'BullionVault'}, {'position': 9, 'title': '最新黄金价格 - 外汇汇率走势- 汇通网', 'link': 'https://news.fx678.com/column/gold', 'redirect_link': 'https://www.google.com/url?sa=t&source=web&rct=j&opi=89978449&url=https://news.fx678.com/column/gold&ved=2ahUKEwjrx53Q44KGAxU94skDHdKvBagQFnoECCsQAQ', 'displayed_link': 'https://news.fx678.com › gold', 'favicon': 'https://serpapi.com/searches/663de9e17f83616a25a94b5e/images/a16f7db5ef2efaa04b8982e1c1aa20048a89a2b1b662da7c385e079afb58eefc.png', 'snippet': '交易员：金价继续整理，白银正试图测试27.75-28.00阻力\\u200b 黄金收于2310美元以上，白银朝着27.50美元的水平迈进，黄金/白银比率下降至84.50；铂金设法从盘中低点反弹。', 'snippet_highlighted_words': ['金价'], 'source': 'Fx678'}], 'related_searches': [{'block_position': 1, 'query': '9999黃金價格', 'link': 'https://www.google.com/search?sca_esv=cd9a55a255ee4ca7&sca_upv=1&q=9999%E9%BB%83%E9%87%91%E5%83%B9%E6%A0%BC&sa=X&ved=2ahUKEwjrx53Q44KGAxU94skDHdKvBagQ1QJ6BAgqEAE', 'serpapi_link': 'https://serpapi.com/search.json?device=desktop&engine=google&gl=us&google_domain=google.com&hl=en&q=9999%E9%BB%83%E9%87%91%E5%83%B9%E6%A0%BC'}, {'block_position': 1, 'query': '国际金价', 'link': 'https://www.google.com/search?sca_esv=cd9a55a255ee4ca7&sca_upv=1&q=%E5%9B%BD%E9%99%85%E9%87%91%E4%BB%B7&sa=X&ved=2ahUKEwjrx53Q44KGAxU94skDHdKvBagQ1QJ6BAgpEAE', 'serpapi_link': 'https://serpapi.com/search.json?device=desktop&engine=google&gl=us&google_domain=google.com&hl=en&q=%E5%9B%BD%E9%99%85%E9%87%91%E4%BB%B7'}, {'block_position': 1, 'query': '今天金价多少钱一克', 'link': 'https://www.google.com/search?sca_esv=cd9a55a255ee4ca7&sca_upv=1&q=%E4%BB%8A%E5%A4%A9%E9%87%91%E4%BB%B7%E5%A4%9A%E5%B0%91%E9%92%B1%E4%B8%80%E5%85%8B&sa=X&ved=2ahUKEwjrx53Q44KGAxU94skDHdKvBagQ1QJ6BAgoEAE', 'serpapi_link': 'https://serpapi.com/search.json?device=desktop&engine=google&gl=us&google_domain=google.com&hl=en&q=%E4%BB%8A%E5%A4%A9%E9%87%91%E4%BB%B7%E5%A4%9A%E5%B0%91%E9%92%B1%E4%B8%80%E5%85%8B'}, {'block_position': 1, 'query': '周大福金价', 'link': 'https://www.google.com/search?sca_esv=cd9a55a255ee4ca7&sca_upv=1&q=%E5%91%A8%E5%A4%A7%E7%A6%8F%E9%87%91%E4%BB%B7&sa=X&ved=2ahUKEwjrx53Q44KGAxU94skDHdKvBagQ1QJ6BAgnEAE', 'serpapi_link': 'https://serpapi.com/search.json?device=desktop&engine=google&gl=us&google_domain=google.com&hl=en&q=%E5%91%A8%E5%A4%A7%E7%A6%8F%E9%87%91%E4%BB%B7'}, {'block_position': 1, 'query': '美国金价', 'link': 'https://www.google.com/search?sca_esv=cd9a55a255ee4ca7&sca_upv=1&q=%E7%BE%8E%E5%9B%BD%E9%87%91%E4%BB%B7&sa=X&ved=2ahUKEwjrx53Q44KGAxU94skDHdKvBagQ1QJ6BAgmEAE', 'serpapi_link': 'https://serpapi.com/search.json?device=desktop&engine=google&gl=us&google_domain=google.com&hl=en&q=%E7%BE%8E%E5%9B%BD%E9%87%91%E4%BB%B7'}, {'block_position': 1, 'query': '金价走势', 'link': 'https://www.google.com/search?sca_esv=cd9a55a255ee4ca7&sca_upv=1&q=%E9%87%91%E4%BB%B7%E8%B5%B0%E5%8A%BF&sa=X&ved=2ahUKEwjrx53Q44KGAxU94skDHdKvBagQ1QJ6BAglEAE', 'serpapi_link': 'https://serpapi.com/search.json?device=desktop&engine=google&gl=us&google_domain=google.com&hl=en&q=%E9%87%91%E4%BB%B7%E8%B5%B0%E5%8A%BF'}, {'block_position': 1, 'query': '今天金价走势', 'link': 'https://www.google.com/search?sca_esv=cd9a55a255ee4ca7&sca_upv=1&q=%E4%BB%8A%E5%A4%A9%E9%87%91%E4%BB%B7%E8%B5%B0%E5%8A%BF&sa=X&ved=2ahUKEwjrx53Q44KGAxU94skDHdKvBagQ1QJ6BAgjEAE', 'serpapi_link': 'https://serpapi.com/search.json?device=desktop&engine=google&gl=us&google_domain=google.com&hl=en&q=%E4%BB%8A%E5%A4%A9%E9%87%91%E4%BB%B7%E8%B5%B0%E5%8A%BF'}, {'block_position': 1, 'query': '国际金价走势', 'link': 'https://www.google.com/search?sca_esv=cd9a55a255ee4ca7&sca_upv=1&q=%E5%9B%BD%E9%99%85%E9%87%91%E4%BB%B7%E8%B5%B0%E5%8A%BF&sa=X&ved=2ahUKEwjrx53Q44KGAxU94skDHdKvBagQ1QJ6BAgkEAE', 'serpapi_link': 'https://serpapi.com/search.json?device=desktop&engine=google&gl=us&google_domain=google.com&hl=en&q=%E5%9B%BD%E9%99%85%E9%87%91%E4%BB%B7%E8%B5%B0%E5%8A%BF'}], 'pagination': {'current': 1, 'next': 'https://www.google.com/search?q=%E5%BD%93%E5%89%8D%E9%87%91%E4%BB%B7&oq=%E5%BD%93%E5%89%8D%E9%87%91%E4%BB%B7&hl=en&gl=us&start=10&sourceid=chrome&ie=UTF-8', 'other_pages': {'2': 'https://www.google.com/search?q=%E5%BD%93%E5%89%8D%E9%87%91%E4%BB%B7&oq=%E5%BD%93%E5%89%8D%E9%87%91%E4%BB%B7&hl=en&gl=us&start=10&sourceid=chrome&ie=UTF-8', '3': 'https://www.google.com/search?q=%E5%BD%93%E5%89%8D%E9%87%91%E4%BB%B7&oq=%E5%BD%93%E5%89%8D%E9%87%91%E4%BB%B7&hl=en&gl=us&start=20&sourceid=chrome&ie=UTF-8', '4': 'https://www.google.com/search?q=%E5%BD%93%E5%89%8D%E9%87%91%E4%BB%B7&oq=%E5%BD%93%E5%89%8D%E9%87%91%E4%BB%B7&hl=en&gl=us&start=30&sourceid=chrome&ie=UTF-8', '5': 'https://www.google.com/search?q=%E5%BD%93%E5%89%8D%E9%87%91%E4%BB%B7&oq=%E5%BD%93%E5%89%8D%E9%87%91%E4%BB%B7&hl=en&gl=us&start=40&sourceid=chrome&ie=UTF-8'}}, 'serpapi_pagination': {'current': 1, 'next_link': 'https://serpapi.com/search.json?device=desktop&engine=google&gl=us&google_domain=google.com&hl=en&q=%E5%BD%93%E5%89%8D%E9%87%91%E4%BB%B7&start=10', 'next': 'https://serpapi.com/search.json?device=desktop&engine=google&gl=us&google_domain=google.com&hl=en&q=%E5%BD%93%E5%89%8D%E9%87%91%E4%BB%B7&start=10', 'other_pages': {'2': 'https://serpapi.com/search.json?device=desktop&engine=google&gl=us&google_domain=google.com&hl=en&q=%E5%BD%93%E5%89%8D%E9%87%91%E4%BB%B7&start=10', '3': 'https://serpapi.com/search.json?device=desktop&engine=google&gl=us&google_domain=google.com&hl=en&q=%E5%BD%93%E5%89%8D%E9%87%91%E4%BB%B7&start=20', '4': 'https://serpapi.com/search.json?device=desktop&engine=google&gl=us&google_domain=google.com&hl=en&q=%E5%BD%93%E5%89%8D%E9%87%91%E4%BB%B7&start=30', '5': 'https://serpapi.com/search.json?device=desktop&engine=google&gl=us&google_domain=google.com&hl=en&q=%E5%BD%93%E5%89%8D%E9%87%91%E4%BB%B7&start=40'}}}\u001B[0m\u001B[32;1m\u001B[1;3m根据最新数据，周大福的黄金零售价为719元/克。\u001B[0m\n",
      "\n",
      "\u001B[1m> Finished chain.\u001B[0m\n"
     ]
    },
    {
     "data": {
      "text/plain": [
       "{'input': '你好，请问现在的金价是多少', 'output': '根据最新数据，周大福的黄金零售价为719元/克。'}"
      ]
     },
     "execution_count": 39,
     "metadata": {},
     "output_type": "execute_result"
    }
   ],
   "execution_count": 39
  }
 ],
 "metadata": {
  "kernelspec": {
   "display_name": "Python 3",
   "language": "python",
   "name": "python3"
  },
  "language_info": {
   "codemirror_mode": {
    "name": "ipython",
    "version": 2
   },
   "file_extension": ".py",
   "mimetype": "text/x-python",
   "name": "python",
   "nbconvert_exporter": "python",
   "pygments_lexer": "ipython2",
   "version": "2.7.6"
  }
 },
 "nbformat": 4,
 "nbformat_minor": 5
}
